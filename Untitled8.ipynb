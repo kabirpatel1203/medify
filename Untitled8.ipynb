{
  "nbformat": 4,
  "nbformat_minor": 0,
  "metadata": {
    "colab": {
      "provenance": []
    },
    "kernelspec": {
      "name": "python3",
      "display_name": "Python 3"
    },
    "language_info": {
      "name": "python"
    }
  },
  "cells": [
    {
      "cell_type": "code",
      "execution_count": 1,
      "metadata": {
        "id": "xWHVRZqTMEHS",
        "outputId": "b5dc2c09-33b8-4b5e-b0d4-0770b7ced64c",
        "colab": {
          "base_uri": "https://localhost:8080/"
        }
      },
      "outputs": [
        {
          "output_type": "stream",
          "name": "stdout",
          "text": [
            "Kabir Patel\n"
          ]
        }
      ],
      "source": [
        "print(\"Kabir Patel\")"
      ]
    },
    {
      "cell_type": "code",
      "source": [],
      "metadata": {
        "id": "uBjLcbiuMGry"
      },
      "execution_count": null,
      "outputs": []
    }
  ]
}